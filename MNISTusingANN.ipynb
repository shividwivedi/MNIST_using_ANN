{
  "nbformat": 4,
  "nbformat_minor": 0,
  "metadata": {
    "colab": {
      "provenance": []
    },
    "kernelspec": {
      "name": "python3",
      "display_name": "Python 3"
    },
    "language_info": {
      "name": "python"
    }
  },
  "cells": [
    {
      "cell_type": "code",
      "source": [
        "import numpy as np\n",
        "import pandas as pd\n",
        "import matplotlib.pyplot as plt\n",
        "%matplotlib inline"
      ],
      "metadata": {
        "id": "tocwI_XaFJQG"
      },
      "execution_count": null,
      "outputs": []
    },
    {
      "cell_type": "code",
      "execution_count": null,
      "metadata": {
        "id": "whctmoqvDZvF",
        "colab": {
          "base_uri": "https://localhost:8080/"
        },
        "outputId": "38d0afd5-baee-41a9-8c90-a97a576220d1"
      },
      "outputs": [
        {
          "output_type": "stream",
          "name": "stdout",
          "text": [
            "Downloading data from https://storage.googleapis.com/tensorflow/tf-keras-datasets/train-labels-idx1-ubyte.gz\n",
            "29515/29515 [==============================] - 0s 0us/step\n",
            "Downloading data from https://storage.googleapis.com/tensorflow/tf-keras-datasets/train-images-idx3-ubyte.gz\n",
            "26421880/26421880 [==============================] - 0s 0us/step\n",
            "Downloading data from https://storage.googleapis.com/tensorflow/tf-keras-datasets/t10k-labels-idx1-ubyte.gz\n",
            "5148/5148 [==============================] - 0s 0us/step\n",
            "Downloading data from https://storage.googleapis.com/tensorflow/tf-keras-datasets/t10k-images-idx3-ubyte.gz\n",
            "4422102/4422102 [==============================] - 0s 0us/step\n"
          ]
        }
      ],
      "source": [
        "fashion_mnist = keras.datasets.fashion_mnist\n",
        "(x_train_full , y_train_full) ,(x_test , y_test) = fashion_mnist.load_data()"
      ]
    },
    {
      "cell_type": "code",
      "source": [
        "plt.imshow(x_train_full[1])"
      ],
      "metadata": {
        "colab": {
          "base_uri": "https://localhost:8080/",
          "height": 447
        },
        "id": "l7e3kYZQFFGa",
        "outputId": "0256232c-b44c-4339-bed4-e1ceddac8797"
      },
      "execution_count": null,
      "outputs": [
        {
          "output_type": "execute_result",
          "data": {
            "text/plain": [
              "<matplotlib.image.AxesImage at 0x7833b4aa6170>"
            ]
          },
          "metadata": {},
          "execution_count": 4
        },
        {
          "output_type": "display_data",
          "data": {
            "text/plain": [
              "<Figure size 640x480 with 1 Axes>"
            ],
            "image/png": "[encoded data removed]"
          },
          "metadata": {}
        }
      ]
    },
    {
      "cell_type": "code",
      "source": [
        "class_names =[\"T-shirts/top\", \"Trouser\" , \"Pullover\", \"Dress\" , \"Coat\", \"Sandal\" , \"Shirt\" ,\"Sneaker\", \"Bag\" , \"Ankle boot\"]"
      ],
      "metadata": {
        "id": "QlVjwFGGFH_4"
      },
      "execution_count": null,
      "outputs": []
    },
    {
      "cell_type": "code",
      "source": [
        "class_names[y_train_full[1]]"
      ],
      "metadata": {
        "colab": {
          "base_uri": "https://localhost:8080/",
          "height": 35
        },
        "id": "zcHQPu4LzMwZ",
        "outputId": "3eeb9e4d-aade-43f8-c73e-0a1cce2cb5f4"
      },
      "execution_count": null,
      "outputs": [
        {
          "output_type": "execute_result",
          "data": {
            "text/plain": [
              "'T-shirts/top'"
            ],
            "application/vnd.google.colaboratory.intrinsic+json": {
              "type": "string"
            }
          },
          "metadata": {},
          "execution_count": 6
        }
      ]
    },
    {
      "cell_type": "code",
      "source": [
        "# data is 28 by 28 pixel value where intensity lies rom 0 to 255\n",
        "print(x_train_full[1])"
      ],
      "metadata": {
        "colab": {
          "base_uri": "https://localhost:8080/"
        },
        "id": "kGhhlun2zMs9",
        "outputId": "fe8d296e-65f6-47ee-f389-227007d18f90"
      },
      "execution_count": null,
      "outputs": [
        {
          "output_type": "stream",
          "name": "stdout",
          "text": [
            "[[  0   0   0   0   0   1   0   0   0   0  41 188 103  54  48  43  87 168\n",
            "  133  16   0   0   0   0   0   0   0   0]\n",
            " [  0   0   0   1   0   0   0  49 136 219 216 228 236 255 255 255 255 217\n",
            "  215 254 231 160  45   0   0   0   0   0]\n",
            " [  0   0   0   0   0  14 176 222 224 212 203 198 196 200 215 204 202 201\n",
            "  201 201 209 218 224 164   0   0   0   0]\n",
            " [  0   0   0   0   0 188 219 200 198 202 198 199 199 201 196 198 198 200\n",
            "  200 200 200 201 200 225  41   0   0   0]\n",
            " [  0   0   0   0  51 219 199 203 203 212 238 248 250 245 249 246 247 252\n",
            "  248 235 207 203 203 222 140   0   0   0]\n",
            " [  0   0   0   0 116 226 206 204 207 204 101  75  47  73  48  50  45  51\n",
            "   63 113 222 202 206 220 224   0   0   0]\n",
            " [  0   0   0   0 200 222 209 203 215 200   0  70  98   0 103  59  68  71\n",
            "   49   0 219 206 214 210 250  38   0   0]\n",
            " [  0   0   0   0 247 218 212 210 215 214   0 254 243 139 255 174 251 255\n",
            "  205   0 215 217 214 208 220  95   0   0]\n",
            " [  0   0   0  45 226 214 214 215 224 205   0  42  35  60  16  17  12  13\n",
            "   70   0 189 216 212 206 212 156   0   0]\n",
            " [  0   0   0 164 235 214 211 220 216 201  52  71  89  94  83  78  70  76\n",
            "   92  87 206 207 222 213 219 208   0   0]\n",
            " [  0   0   0 106 187 223 237 248 211 198 252 250 248 245 248 252 253 250\n",
            "  252 239 201 212 225 215 193 113   0   0]\n",
            " [  0   0   0   0   0  17  54 159 222 193 208 192 197 200 200 200 200 201\n",
            "  203 195 210 165   0   0   0   0   0   0]\n",
            " [  0   0   0   0   0   0   0  47 225 192 214 203 206 204 204 205 206 204\n",
            "  212 197 218 107   0   0   0   0   0   0]\n",
            " [  0   0   0   0   1   6   0  46 212 195 212 202 206 205 204 205 206 204\n",
            "  212 200 218  91   0   3   1   0   0   0]\n",
            " [  0   0   0   0   0   1   0  11 197 199 205 202 205 206 204 205 207 204\n",
            "  205 205 218  77   0   5   0   0   0   0]\n",
            " [  0   0   0   0   0   3   0   2 191 198 201 205 206 205 205 206 209 206\n",
            "  199 209 219  74   0   5   0   0   0   0]\n",
            " [  0   0   0   0   0   2   0   0 188 197 200 207 207 204 207 207 210 208\n",
            "  198 207 221  72   0   4   0   0   0   0]\n",
            " [  0   0   0   0   0   2   0   0 215 198 203 206 208 205 207 207 210 208\n",
            "  200 202 222  75   0   4   0   0   0   0]\n",
            " [  0   0   0   0   0   1   0   0 212 198 209 206 209 206 208 207 211 206\n",
            "  205 198 221  80   0   3   0   0   0   0]\n",
            " [  0   0   0   0   0   1   0   0 204 201 205 208 207 205 211 205 210 210\n",
            "  209 195 221  96   0   3   0   0   0   0]\n",
            " [  0   0   0   0   0   1   0   0 202 201 205 209 207 205 213 206 210 209\n",
            "  210 194 217 105   0   2   0   0   0   0]\n",
            " [  0   0   0   0   0   1   0   0 204 204 205 208 207 205 215 207 210 208\n",
            "  211 193 213 115   0   2   0   0   0   0]\n",
            " [  0   0   0   0   0   0   0   0 204 207 207 208 206 206 215 210 210 207\n",
            "  212 195 210 118   0   2   0   0   0   0]\n",
            " [  0   0   0   0   0   1   0   0 198 208 208 208 204 207 212 212 210 207\n",
            "  211 196 207 121   0   1   0   0   0   0]\n",
            " [  0   0   0   0   0   1   0   0 198 210 207 208 206 209 213 212 211 207\n",
            "  210 197 207 124   0   1   0   0   0   0]\n",
            " [  0   0   0   0   0   0   0   0 172 210 203 201 199 204 207 205 204 201\n",
            "  205 197 206 127   0   0   0   0   0   0]\n",
            " [  0   0   0   0   0   0   0   0 188 221 214 234 236 238 244 244 244 240\n",
            "  243 214 224 162   0   2   0   0   0   0]\n",
            " [  0   0   0   0   0   1   0   0 139 146 130 135 135 137 125 124 125 121\n",
            "  119 114 130  76   0   0   0   0   0   0]]\n"
          ]
        }
      ]
    },
    {
      "cell_type": "code",
      "source": [
        "x_train_n = x_train_full/255.\n",
        "x_test_n = x_test/255.  #normalizing means putting pixel denstities between 0 to 1"
      ],
      "metadata": {
        "id": "rlzH3Of8zMqI"
      },
      "execution_count": null,
      "outputs": []
    },
    {
      "cell_type": "code",
      "source": [
        "x_valid , x_train = x_train_n[:5000] , x_train_n[5000:]\n",
        "y_valid , y_train = y_train_full[:5000] , y_train_full[5000:]\n",
        "x_test = x_test_n"
      ],
      "metadata": {
        "id": "Vq-ky7ofzMnW"
      },
      "execution_count": null,
      "outputs": []
    },
    {
      "cell_type": "code",
      "source": [
        "np.random.seed(42)\n",
        "tf.random.set_seed(42)"
      ],
      "metadata": {
        "id": "886SJUxk2tRE"
      },
      "execution_count": null,
      "outputs": []
    },
    {
      "cell_type": "code",
      "source": [
        "model = keras.models.Sequential()\n",
        "model.add(keras.layers.Flatten(input_shape = [28 , 28])) # to convert 28*28 into 784 1d\n",
        "model.add(keras.layers.Dense(300 , activation = 'relu'))\n",
        "model.add(keras.layers.Dense(100 , activation  = 'relu'))\n",
        "model.add(keras.layers.Dense(10 , activation  = \"softmax\"))\n"
      ],
      "metadata": {
        "id": "6XWso70c2tOd"
      },
      "execution_count": null,
      "outputs": []
    },
    {
      "cell_type": "code",
      "source": [
        "model.summary()"
      ],
      "metadata": {
        "colab": {
          "base_uri": "https://localhost:8080/"
        },
        "id": "AflbeeTp2tMB",
        "outputId": "08471123-ef53-4ddc-9fde-e9a7d007dcdb"
      },
      "execution_count": null,
      "outputs": [
        {
          "output_type": "stream",
          "name": "stdout",
          "text": [
            "Model: \"sequential\"\n",
            "_________________________________________________________________\n",
            " Layer (type)                Output Shape              Param #   \n",
            "=================================================================\n",
            " flatten (Flatten)           (None, 784)               0         \n",
            "                                                                 \n",
            " dense (Dense)               (None, 300)               235500    \n",
            "                                                                 \n",
            " dense_1 (Dense)             (None, 100)               30100     \n",
            "                                                                 \n",
            " dense_2 (Dense)             (None, 10)                1010      \n",
            "                                                                 \n",
            "=================================================================\n",
            "Total params: 266,610\n",
            "Trainable params: 266,610\n",
            "Non-trainable params: 0\n",
            "_________________________________________________________________\n"
          ]
        }
      ]
    },
    {
      "cell_type": "code",
      "source": [
        "#to look our nueral network\n",
        "import matplotlib.pyplot as plt\n",
        "keras.utils.plot_model(model)"
      ],
      "metadata": {
        "colab": {
          "base_uri": "https://localhost:8080/",
          "height": 466
        },
        "id": "1_2n_Gqp2tJf",
        "outputId": "96fed4e4-730b-4d7e-eae7-663d2ffe4742"
      },
      "execution_count": null,
      "outputs": [
        {
          "output_type": "execute_result",
          "data": {
            "image/png": "[encoded data removed]",
            "text/plain": [
              "<IPython.core.display.Image object>"
            ]
          },
          "metadata": {},
          "execution_count": 13
        }
      ]
    },
    {
      "cell_type": "code",
      "source": [
        "weights , baises = model.layers[1].get_weights()"
      ],
      "metadata": {
        "id": "mhF0IJ8f2tHA"
      },
      "execution_count": null,
      "outputs": []
    },
    {
      "cell_type": "code",
      "source": [
        "weights.shape"
      ],
      "metadata": {
        "colab": {
          "base_uri": "https://localhost:8080/"
        },
        "id": "xjSmMxq72tE0",
        "outputId": "98252ecd-3db0-4c9f-9f67-7579975983ba"
      },
      "execution_count": null,
      "outputs": [
        {
          "output_type": "execute_result",
          "data": {
            "text/plain": [
              "(784, 300)"
            ]
          },
          "metadata": {},
          "execution_count": 15
        }
      ]
    },
    {
      "cell_type": "code",
      "source": [
        "model.compile(loss= \"sparse_categorical_crossentropy\" , optimizer = \"sgd\" ,metrics = [\"accuracy\"])"
      ],
      "metadata": {
        "id": "Gmt0SB1R8QBv"
      },
      "execution_count": null,
      "outputs": []
    },
    {
      "cell_type": "code",
      "source": [
        "model.history = model.fit(x_train , y_train  , epochs = 30,\n",
        "                          validation_data = (x_valid , y_valid))"
      ],
      "metadata": {
        "colab": {
          "base_uri": "https://localhost:8080/"
        },
        "id": "HWhP1w3C2tCL",
        "outputId": "0e0b8384-2c2b-4e72-d8f4-1500f179976a"
      },
      "execution_count": null,
      "outputs": [
        {
          "output_type": "stream",
          "name": "stdout",
          "text": [
            "Epoch 1/30\n",
            "1719/1719 [==============================] - 16s 8ms/step - loss: 0.7284 - accuracy: 0.7604 - val_loss: 0.5285 - val_accuracy: 0.8210\n",
            "Epoch 2/30\n",
            "1719/1719 [==============================] - 10s 6ms/step - loss: 0.4927 - accuracy: 0.8271 - val_loss: 0.4450 - val_accuracy: 0.8470\n",
            "Epoch 3/30\n",
            "1719/1719 [==============================] - 9s 5ms/step - loss: 0.4466 - accuracy: 0.8435 - val_loss: 0.5515 - val_accuracy: 0.7948\n",
            "Epoch 4/30\n",
            "1719/1719 [==============================] - 9s 5ms/step - loss: 0.4197 - accuracy: 0.8525 - val_loss: 0.3981 - val_accuracy: 0.8630\n",
            "Epoch 5/30\n",
            "1719/1719 [==============================] - 10s 6ms/step - loss: 0.4009 - accuracy: 0.8596 - val_loss: 0.3833 - val_accuracy: 0.8670\n",
            "Epoch 6/30\n",
            "1719/1719 [==============================] - 8s 5ms/step - loss: 0.3820 - accuracy: 0.8652 - val_loss: 0.3755 - val_accuracy: 0.8718\n",
            "Epoch 7/30\n",
            "1719/1719 [==============================] - 10s 6ms/step - loss: 0.3692 - accuracy: 0.8701 - val_loss: 0.3697 - val_accuracy: 0.8742\n",
            "Epoch 8/30\n",
            "1719/1719 [==============================] - 8s 4ms/step - loss: 0.3572 - accuracy: 0.8729 - val_loss: 0.3938 - val_accuracy: 0.8552\n",
            "Epoch 9/30\n",
            "1719/1719 [==============================] - 9s 5ms/step - loss: 0.3463 - accuracy: 0.8771 - val_loss: 0.3557 - val_accuracy: 0.8744\n",
            "Epoch 10/30\n",
            "1719/1719 [==============================] - 10s 6ms/step - loss: 0.3369 - accuracy: 0.8799 - val_loss: 0.3541 - val_accuracy: 0.8728\n",
            "Epoch 11/30\n",
            "1719/1719 [==============================] - 9s 5ms/step - loss: 0.3283 - accuracy: 0.8825 - val_loss: 0.3457 - val_accuracy: 0.8772\n",
            "Epoch 12/30\n",
            "1719/1719 [==============================] - 8s 5ms/step - loss: 0.3187 - accuracy: 0.8851 - val_loss: 0.3323 - val_accuracy: 0.8820\n",
            "Epoch 13/30\n",
            "1719/1719 [==============================] - 9s 5ms/step - loss: 0.3114 - accuracy: 0.8894 - val_loss: 0.3310 - val_accuracy: 0.8850\n",
            "Epoch 14/30\n",
            "1719/1719 [==============================] - 19s 11ms/step - loss: 0.3051 - accuracy: 0.8899 - val_loss: 0.3483 - val_accuracy: 0.8714\n",
            "Epoch 15/30\n",
            "1719/1719 [==============================] - 16s 9ms/step - loss: 0.2970 - accuracy: 0.8926 - val_loss: 0.3327 - val_accuracy: 0.8798\n",
            "Epoch 16/30\n",
            "1719/1719 [==============================] - 14s 8ms/step - loss: 0.2918 - accuracy: 0.8953 - val_loss: 0.3125 - val_accuracy: 0.8894\n",
            "Epoch 17/30\n",
            "1719/1719 [==============================] - 11s 7ms/step - loss: 0.2863 - accuracy: 0.8973 - val_loss: 0.3629 - val_accuracy: 0.8698\n",
            "Epoch 18/30\n",
            "1719/1719 [==============================] - 14s 8ms/step - loss: 0.2797 - accuracy: 0.8986 - val_loss: 0.3147 - val_accuracy: 0.8892\n",
            "Epoch 19/30\n",
            "1719/1719 [==============================] - 16s 9ms/step - loss: 0.2747 - accuracy: 0.9010 - val_loss: 0.3133 - val_accuracy: 0.8902\n",
            "Epoch 20/30\n",
            "1719/1719 [==============================] - 16s 9ms/step - loss: 0.2692 - accuracy: 0.9027 - val_loss: 0.3374 - val_accuracy: 0.8804\n",
            "Epoch 21/30\n",
            "1719/1719 [==============================] - 12s 7ms/step - loss: 0.2637 - accuracy: 0.9050 - val_loss: 0.3079 - val_accuracy: 0.8888\n",
            "Epoch 22/30\n",
            "1719/1719 [==============================] - 14s 8ms/step - loss: 0.2586 - accuracy: 0.9072 - val_loss: 0.3005 - val_accuracy: 0.8918\n",
            "Epoch 23/30\n",
            "1719/1719 [==============================] - 13s 7ms/step - loss: 0.2545 - accuracy: 0.9080 - val_loss: 0.2999 - val_accuracy: 0.8940\n",
            "Epoch 24/30\n",
            "1719/1719 [==============================] - 13s 8ms/step - loss: 0.2502 - accuracy: 0.9099 - val_loss: 0.3051 - val_accuracy: 0.8910\n",
            "Epoch 25/30\n",
            "1719/1719 [==============================] - 16s 9ms/step - loss: 0.2454 - accuracy: 0.9113 - val_loss: 0.2989 - val_accuracy: 0.8916\n",
            "Epoch 26/30\n",
            "1719/1719 [==============================] - 8s 4ms/step - loss: 0.2411 - accuracy: 0.9129 - val_loss: 0.3027 - val_accuracy: 0.8918\n",
            "Epoch 27/30\n",
            "1719/1719 [==============================] - 12s 7ms/step - loss: 0.2380 - accuracy: 0.9148 - val_loss: 0.3094 - val_accuracy: 0.8932\n",
            "Epoch 28/30\n",
            "1719/1719 [==============================] - 10s 6ms/step - loss: 0.2340 - accuracy: 0.9154 - val_loss: 0.3026 - val_accuracy: 0.8936\n",
            "Epoch 29/30\n",
            "1719/1719 [==============================] - 10s 6ms/step - loss: 0.2289 - accuracy: 0.9183 - val_loss: 0.3069 - val_accuracy: 0.8912\n",
            "Epoch 30/30\n",
            "1719/1719 [==============================] - 11s 6ms/step - loss: 0.2255 - accuracy: 0.9197 - val_loss: 0.3144 - val_accuracy: 0.8890\n"
          ]
        }
      ]
    },
    {
      "cell_type": "code",
      "source": [
        "model.history.history\n"
      ],
      "metadata": {
        "colab": {
          "base_uri": "https://localhost:8080/"
        },
        "id": "Ff-rtYwB2s_z",
        "outputId": "55a89207-3e20-44d1-ecbd-55bb762cc786"
      },
      "execution_count": null,
      "outputs": [
        {
          "output_type": "execute_result",
          "data": {
            "text/plain": [
              "{'loss': [0.7284085750579834,\n",
              "  0.4927161931991577,\n",
              "  0.4465911090373993,\n",
              "  0.4196649193763733,\n",
              "  0.40093690156936646,\n",
              "  0.3819628059864044,\n",
              "  0.3691532015800476,\n",
              "  0.35723182559013367,\n",
              "  0.34634754061698914,\n",
              "  0.336925745010376,\n",
              "  0.32826972007751465,\n",
              "  0.3187170922756195,\n",
              "  0.31139349937438965,\n",
              "  0.30510109663009644,\n",
              "  0.29695311188697815,\n",
              "  0.29181355237960815,\n",
              "  0.28629177808761597,\n",
              "  0.27970394492149353,\n",
              "  0.27473607659339905,\n",
              "  0.26916804909706116,\n",
              "  0.2636837959289551,\n",
              "  0.25860607624053955,\n",
              "  0.2545359134674072,\n",
              "  0.25021451711654663,\n",
              "  0.2454236000776291,\n",
              "  0.2411496937274933,\n",
              "  0.2379552274942398,\n",
              "  0.2340397834777832,\n",
              "  0.2288893163204193,\n",
              "  0.22552794218063354],\n",
              " 'accuracy': [0.760418176651001,\n",
              "  0.8270545601844788,\n",
              "  0.8434908986091614,\n",
              "  0.852509081363678,\n",
              "  0.8596000075340271,\n",
              "  0.8652363419532776,\n",
              "  0.8701454401016235,\n",
              "  0.8729090690612793,\n",
              "  0.8770727515220642,\n",
              "  0.8798545598983765,\n",
              "  0.8825272917747498,\n",
              "  0.8851454257965088,\n",
              "  0.8893818259239197,\n",
              "  0.8899454474449158,\n",
              "  0.8925636410713196,\n",
              "  0.8953454494476318,\n",
              "  0.8972545266151428,\n",
              "  0.8985999822616577,\n",
              "  0.9010363817214966,\n",
              "  0.9026545286178589,\n",
              "  0.904981791973114,\n",
              "  0.9071817994117737,\n",
              "  0.9080363512039185,\n",
              "  0.90989089012146,\n",
              "  0.9112545251846313,\n",
              "  0.9128727316856384,\n",
              "  0.9147818088531494,\n",
              "  0.9154182076454163,\n",
              "  0.918290913105011,\n",
              "  0.9196727275848389],\n",
              " 'val_loss': [0.5284897685050964,\n",
              "  0.44504448771476746,\n",
              "  0.5514717698097229,\n",
              "  0.3980821371078491,\n",
              "  0.3833342492580414,\n",
              "  0.37548813223838806,\n",
              "  0.36973485350608826,\n",
              "  0.39380943775177,\n",
              "  0.3556755781173706,\n",
              "  0.3540557324886322,\n",
              "  0.34574341773986816,\n",
              "  0.3323462903499603,\n",
              "  0.331041157245636,\n",
              "  0.3483143448829651,\n",
              "  0.3327239155769348,\n",
              "  0.3124699294567108,\n",
              "  0.36292946338653564,\n",
              "  0.3146516680717468,\n",
              "  0.3132793605327606,\n",
              "  0.33735135197639465,\n",
              "  0.3078549802303314,\n",
              "  0.30046549439430237,\n",
              "  0.2999265491962433,\n",
              "  0.3050755262374878,\n",
              "  0.2988581657409668,\n",
              "  0.3027184009552002,\n",
              "  0.30939486622810364,\n",
              "  0.302584171295166,\n",
              "  0.3068848252296448,\n",
              "  0.3143582046031952],\n",
              " 'val_accuracy': [0.8209999799728394,\n",
              "  0.847000002861023,\n",
              "  0.7947999835014343,\n",
              "  0.8629999756813049,\n",
              "  0.8669999837875366,\n",
              "  0.8718000054359436,\n",
              "  0.8741999864578247,\n",
              "  0.8551999926567078,\n",
              "  0.8744000196456909,\n",
              "  0.8727999925613403,\n",
              "  0.8772000074386597,\n",
              "  0.8820000290870667,\n",
              "  0.8849999904632568,\n",
              "  0.871399998664856,\n",
              "  0.879800021648407,\n",
              "  0.8894000053405762,\n",
              "  0.8697999715805054,\n",
              "  0.88919997215271,\n",
              "  0.8902000188827515,\n",
              "  0.8804000020027161,\n",
              "  0.8888000249862671,\n",
              "  0.8917999863624573,\n",
              "  0.8939999938011169,\n",
              "  0.890999972820282,\n",
              "  0.8916000127792358,\n",
              "  0.8917999863624573,\n",
              "  0.8931999802589417,\n",
              "  0.8935999870300293,\n",
              "  0.8912000060081482,\n",
              "  0.8889999985694885]}"
            ]
          },
          "metadata": {},
          "execution_count": 18
        }
      ]
    },
    {
      "cell_type": "code",
      "source": [
        "pd.DataFrame(model.history.history).plot(figsize = (8,5))\n",
        "plt.grid(True)\n",
        "plt.gca().set_ylim(0,1)\n",
        "plt.show()"
      ],
      "metadata": {
        "colab": {
          "base_uri": "https://localhost:8080/",
          "height": 451
        },
        "id": "Sv1xtQq3zMko",
        "outputId": "45ec5b61-4ef9-49db-aaa0-422f9f0c07c7"
      },
      "execution_count": null,
      "outputs": [
        {
          "output_type": "display_data",
          "data": {
            "text/plain": [
              "<Figure size 800x500 with 1 Axes>"
            ],
            "image/png": "[encoded data removed]"
          },
          "metadata": {}
        }
      ]
    },
    {
      "cell_type": "code",
      "source": [
        "model.evaluate(x_test , y_test)"
      ],
      "metadata": {
        "colab": {
          "base_uri": "https://localhost:8080/"
        },
        "id": "ZDEXfDgsDlKB",
        "outputId": "4dc3f6b4-464a-45bf-fd0d-1d8a1238c267"
      },
      "execution_count": null,
      "outputs": [
        {
          "output_type": "stream",
          "name": "stdout",
          "text": [
            "313/313 [==============================] - 2s 7ms/step - loss: 0.3458 - accuracy: 0.8805\n"
          ]
        },
        {
          "output_type": "execute_result",
          "data": {
            "text/plain": [
              "[0.3458123803138733, 0.8805000185966492]"
            ]
          },
          "metadata": {},
          "execution_count": 20
        }
      ]
    },
    {
      "cell_type": "code",
      "source": [
        "x_new= x_test[:3]"
      ],
      "metadata": {
        "id": "rKsDxgV6Dn0L"
      },
      "execution_count": null,
      "outputs": []
    },
    {
      "cell_type": "code",
      "source": [
        "y_prob = model.predict(x_new)\n",
        "y_prob.round(2)\n"
      ],
      "metadata": {
        "colab": {
          "base_uri": "https://localhost:8080/"
        },
        "id": "tijg0kO2DnxW",
        "outputId": "9428f11e-2633-495f-8f10-e2cc9677c747"
      },
      "execution_count": null,
      "outputs": [
        {
          "output_type": "stream",
          "name": "stdout",
          "text": [
            "1/1 [==============================] - 0s 432ms/step\n"
          ]
        },
        {
          "output_type": "execute_result",
          "data": {
            "text/plain": [
              "array([[0.  , 0.  , 0.  , 0.  , 0.  , 0.02, 0.  , 0.02, 0.  , 0.96],\n",
              "       [0.  , 0.  , 1.  , 0.  , 0.  , 0.  , 0.  , 0.  , 0.  , 0.  ],\n",
              "       [0.  , 1.  , 0.  , 0.  , 0.  , 0.  , 0.  , 0.  , 0.  , 0.  ]],\n",
              "      dtype=float32)"
            ]
          },
          "metadata": {},
          "execution_count": 22
        }
      ]
    },
    {
      "cell_type": "code",
      "source": [
        "y_pred = np.argmax(y_prob , axis = 1)\n",
        "y_pred"
      ],
      "metadata": {
        "colab": {
          "base_uri": "https://localhost:8080/"
        },
        "id": "cY4_oyEbDnul",
        "outputId": "c74f1c2d-d607-4ae2-d227-bf6eff984526"
      },
      "execution_count": null,
      "outputs": [
        {
          "output_type": "execute_result",
          "data": {
            "text/plain": [
              "array([9, 2, 1])"
            ]
          },
          "metadata": {},
          "execution_count": 24
        }
      ]
    },
    {
      "cell_type": "code",
      "source": [
        "np.array(class_names)[y_pred]"
      ],
      "metadata": {
        "colab": {
          "base_uri": "https://localhost:8080/"
        },
        "id": "4SmUZasADnr9",
        "outputId": "d119526f-1071-4d44-e18b-a7b6a6f99905"
      },
      "execution_count": null,
      "outputs": [
        {
          "output_type": "execute_result",
          "data": {
            "text/plain": [
              "array(['Ankle boot', 'Pullover', 'Trouser'], dtype='<U12')"
            ]
          },
          "metadata": {},
          "execution_count": 25
        }
      ]
    },
    {
      "cell_type": "code",
      "source": [
        "print(plt.imshow(x_test[0]))"
      ],
      "metadata": {
        "colab": {
          "base_uri": "https://localhost:8080/",
          "height": 447
        },
        "id": "GU1q_B0QDnpT",
        "outputId": "cc11edb9-28e0-4761-c36c-c273969fd6e8"
      },
      "execution_count": null,
      "outputs": [
        {
          "output_type": "stream",
          "name": "stdout",
          "text": [
            "AxesImage(size=(28, 28))\n"
          ]
        },
        {
          "output_type": "display_data",
          "data": {
            "text/plain": [
              "<Figure size 640x480 with 1 Axes>"
            ],
            "image/png": "[encoded data removed]"
          },
          "metadata": {}
        }
      ]
    },
    {
      "cell_type": "code",
      "source": [
        "print(plt.imshow(x_test[1]))"
      ],
      "metadata": {
        "colab": {
          "base_uri": "https://localhost:8080/",
          "height": 447
        },
        "id": "wHt06o_oDnmn",
        "outputId": "fc76b10f-7418-4f69-9378-d876b9bf82f3"
      },
      "execution_count": null,
      "outputs": [
        {
          "output_type": "stream",
          "name": "stdout",
          "text": [
            "AxesImage(size=(28, 28))\n"
          ]
        },
        {
          "output_type": "display_data",
          "data": {
            "text/plain": [
              "<Figure size 640x480 with 1 Axes>"
            ],
            "image/png": "[encoded data removed]"
          },
          "metadata": {}
        }
      ]
    },
    {
      "cell_type": "code",
      "source": [
        "print(plt.imshow(x_test[2]))"
      ],
      "metadata": {
        "colab": {
          "base_uri": "https://localhost:8080/",
          "height": 447
        },
        "id": "bIQjtNJOF8IW",
        "outputId": "9fa8f766-410a-4f7c-b449-d6c3f692a774"
      },
      "execution_count": null,
      "outputs": [
        {
          "output_type": "stream",
          "name": "stdout",
          "text": [
            "AxesImage(size=(28, 28))\n"
          ]
        },
        {
          "output_type": "display_data",
          "data": {
            "text/plain": [
              "<Figure size 640x480 with 1 Axes>"
            ],
            "image/png": "[encoded data removed]"
          },
          "metadata": {}
        }
      ]
    }
  ]
}